{
 "cells": [
  {
   "cell_type": "markdown",
   "metadata": {},
   "source": [
    "<h1><center><font color='black'>Predicción de cotizaciones de bolsa, usando scikit-learn mediante los métodos de regresión de vecinos próximos y SVR</font></center></h1>\n",
    "\n",
    "### Alumno: Pablo Esau Mejia Medina\n",
    "### Asingatura: Gestión de la información"
   ]
  },
  {
   "cell_type": "code",
   "execution_count": 2,
   "metadata": {},
   "outputs": [],
   "source": [
    "import numpy as np\n",
    "from sklearn.svm import SVR\n",
    "from sklearn import preprocessing\n",
    "from pandas_datareader import data\n",
    "from sklearn.neighbors import KNeighborsRegressor\n",
    "from sklearn.model_selection import train_test_split "
   ]
  },
  {
   "cell_type": "markdown",
   "metadata": {},
   "source": [
    "<h1><center><font color='red'>Lectura y preprocesamiento de datos</font></center></h1>\n",
    "\n",
    "* Esta seccion se encarga de calcular el promedio de cambio de cada accion, separa los registros con los que se haran pruebas, ademas divide la data en el conjunto de entrenamiento y test en una proporcion de 80%,20% respectivamente.\n",
    "\n",
    "* Es importante, aclarar que en esta seccion para la prediccion de cada dia se toma en cuenta el valor del dia anterior."
   ]
  },
  {
   "cell_type": "code",
   "execution_count": 3,
   "metadata": {},
   "outputs": [],
   "source": [
    "#Dividimos nuestros datos en \"conjunto de entrenamiento y de prueba\n",
    "Netflix = data.DataReader('NFLX', 'yahoo',start='1/1/2003')\n",
    "#Se define el número de datos a predecir\n",
    "pronostico = int(1)\n",
    "y_exacta = Netflix[\"Close\"][-pronostico]\n",
    "#Calculo el porcentaje del promedio de cambios durante el día\n",
    "Netflix['HL'] = (Netflix['High'] - Netflix['Low']) / Netflix['Low'] * 100.0\n",
    "Netflix['Change'] = (Netflix['Close'] - Netflix['Open']) / Netflix['Open'] * 100.0\n",
    "Netflix = Netflix[['Close', 'HL', 'Change', 'Volume']]\n",
    "#Se define la columna con las etiquetas o respuestas\n",
    "data_etiquetada = 'Close'\n",
    "#Se crea una nueva columna con el pronostico de la data\n",
    "Netflix['Pronostico'] = Netflix[data_etiquetada].shift(-pronostico)\n",
    "#Se crea el conjunto de datos con las características\n",
    "X = np.array(Netflix.drop(['Pronostico'], 1))\n",
    "X = preprocessing.scale(X)\n",
    "#Se elimina las filas de los datos a predecir\n",
    "X = X[:-pronostico]\n",
    "#Se crea una variable que contiene solamente los datos para predecir\n",
    "X_prediccion = X[-pronostico:]\n",
    "#Se crea una variable con las etiquetas o respuestas\n",
    "y = np.array(Netflix['Pronostico'])\n",
    "#Se elimina las filas de los datos a predecir\n",
    "y = y[:-pronostico]\n",
    "#Se selecciona el 20% de la data entrenamiento y prueba\n",
    "x_train, x_test, y_train, y_test = train_test_split(X, y, test_size=0.2)"
   ]
  },
  {
   "cell_type": "markdown",
   "metadata": {},
   "source": [
    "<h1><center><font color='red'>Modelo de regresion con K vecinos (KNN-Regresion)</font></center></h1>"
   ]
  },
  {
   "cell_type": "code",
   "execution_count": 4,
   "metadata": {},
   "outputs": [
    {
     "name": "stdout",
     "output_type": "stream",
     "text": [
      "Confianza del modelo:  99.09328495661286\n"
     ]
    }
   ],
   "source": [
    "knn = KNeighborsRegressor(n_neighbors=5) #Declaramos al método\n",
    "modelKnn = knn.fit(x_train, y_train) #Ajustamos a al método\n",
    "confianzaKnn = modelKnn.score(x_test, y_test) # El porcentaje de acertamiento del método\n",
    "print(\"Confianza del modelo: \",confianzaKnn*100 )"
   ]
  },
  {
   "cell_type": "markdown",
   "metadata": {},
   "source": [
    "### La funcion score da un coeficiente que en $R ^ 2$  se define como $(1 - u / v)$, donde:\n",
    "\n",
    "* 1. $u$ es la suma residual de cuadrados ((y_true - y_pred) ** 2) .sum () y \n",
    "* 2. v es la suma total de cuadrados ((y_true - y_true.mean ()) ** 2) .sum (). \n",
    "\n",
    "La mejor puntuación posible es 1.0 y puede ser negativa (porque el modelo puede ser arbitrariamente peor). Un modelo constante que siempre predice el valor esperado de y, sin tener en cuenta las características de entrada, obtendría una puntuación $R ^ 2$ de 0.0."
   ]
  },
  {
   "cell_type": "markdown",
   "metadata": {},
   "source": [
    "## Prueba"
   ]
  },
  {
   "cell_type": "code",
   "execution_count": 5,
   "metadata": {},
   "outputs": [
    {
     "name": "stdout",
     "output_type": "stream",
     "text": [
      "Valor Predicho para hoy: [316.66199951]\n",
      "Valor Real para hoy: \n"
     ]
    }
   ],
   "source": [
    "print(\"Valor Predicho para hoy:\",modelKnn.predict(X_prediccion))\n",
    "print(\"Valor Real para hoy: \")"
   ]
  },
  {
   "cell_type": "markdown",
   "metadata": {},
   "source": [
    "##### El valor real del dia 10 de enero del 2019 es de 319.96 $. [Click para ver el Precio real](https://www.google.es/search?rlz=1C1JZAP_esHN814HN814&ei=-V0KXMukLcyS1fAP-JGXkA8&q=netflix+precio+acciones&oq=netflix+precio+acciones&gs_l=psy-ab.3..0.1343.2361..2419...0.0..0.87.653.8......0....1..gws-wiz.......0i71j0i131j0i67j0i22i30.fzb9bUZVgIY)"
   ]
  },
  {
   "cell_type": "markdown",
   "metadata": {},
   "source": [
    "<h1><center><font color='red'>Modelo de regresion con SVR</font></center></h1>"
   ]
  },
  {
   "cell_type": "code",
   "execution_count": 6,
   "metadata": {},
   "outputs": [
    {
     "name": "stdout",
     "output_type": "stream",
     "text": [
      "Confianza del modelo:  99.73732077018471\n"
     ]
    }
   ],
   "source": [
    "clf = SVR(kernel='rbf', C=1e3, gamma=0.1)\n",
    "modelSVR = clf.fit(x_train, y_train)\n",
    "confianzaSVR=modelSVR.score(x_test, y_test)\n",
    "print(\"Confianza del modelo: \",confianzaSVR*100)"
   ]
  },
  {
   "cell_type": "code",
   "execution_count": 7,
   "metadata": {},
   "outputs": [
    {
     "name": "stdout",
     "output_type": "stream",
     "text": [
      "Valor Predicho para hoy: [320.66623914]\n",
      "Valor Real para hoy: \n"
     ]
    }
   ],
   "source": [
    "print(\"Valor Predicho para hoy:\",modelSVR.predict(X_prediccion))\n",
    "print(\"Valor Real para hoy: \")"
   ]
  },
  {
   "cell_type": "markdown",
   "metadata": {},
   "source": [
    "##### El valor real del dia 10 de enero del 2019 es de 319.96 $. [Click para ver el Precio real](https://www.google.es/search?rlz=1C1JZAP_esHN814HN814&ei=-V0KXMukLcyS1fAP-JGXkA8&q=netflix+precio+acciones&oq=netflix+precio+acciones&gs_l=psy-ab.3..0.1343.2361..2419...0.0..0.87.653.8......0....1..gws-wiz.......0i71j0i131j0i67j0i22i30.fzb9bUZVgIY)"
   ]
  },
  {
   "cell_type": "markdown",
   "metadata": {
    "scrolled": true
   },
   "source": [
    "<h1><center><font color='red'>Considerando dos dias anteriores</font></center></h1>\n",
    "\n",
    "* En esta seccion se considera 2 dias anteriores para predecir el valor de un dia determinado."
   ]
  },
  {
   "cell_type": "code",
   "execution_count": 8,
   "metadata": {},
   "outputs": [],
   "source": [
    "#Dividimos nuestros datos en \"conjunto de entrenamiento y de prueba\n",
    "Netflix = data.DataReader('NFLX', 'yahoo',start='1/1/2003')\n",
    "#Se define el número de datos a predecir\n",
    "pronostico = int(1)\n",
    "y_exacta = Netflix[\"Close\"][-pronostico]\n",
    "#Calculo el porcentaje del promedio de cambios durante el día\n",
    "Netflix['HL'] = (Netflix['High'] - Netflix['Low']) / Netflix['Low'] * 100.0\n",
    "Netflix['Change'] = (Netflix['Close'] - Netflix['Open']) / Netflix['Open'] * 100.0\n",
    "Netflix = Netflix[['Close', 'HL', 'Change', 'Volume']]\n",
    "#Se define la columna con las etiquetas o respuestas\n",
    "data_etiquetada = 'Close'\n",
    "#Se crea una nueva columna con el pronostico de la data\n",
    "Netflix['Pronostico'] = Netflix[data_etiquetada].shift(-pronostico)\n",
    "#Se crea el conjunto de datos con las características\n",
    "X = np.array(Netflix.drop(['Pronostico'], 1))\n",
    "X = preprocessing.scale(X)\n",
    "#Se elimina las filas de los datos a predecir\n",
    "X = X[:-pronostico]\n",
    "#################################################################\n",
    "X_par = X[::2]\n",
    "X_impar = X[1::2] \n",
    "if(len(X_par) > len(X_impar)):\n",
    "    X_par = np.delete(X_par, len(X_par)-1, 0)\n",
    "if(len(X_par) < len(X_impar)):\n",
    "    X_impar = np.delete(X_impar, len(X_impar)-1, 0)\n",
    "    \n",
    "X=np.concatenate((X_par, X_impar), axis=1) \n",
    "X = X[:-pronostico]\n",
    "##################################################################\n",
    "#Se crea una variable que contiene solamente los datos para predecir\n",
    "X_prediccion = X[-pronostico:]\n",
    "#Se crea una variable con las etiquetas o respuestas\n",
    "y = np.array(Netflix['Pronostico'])\n",
    "y = y[2::2]\n",
    "#Se elimina las filas de los datos a predecir\n",
    "y = y[:-pronostico]\n",
    "#Se selecciona el 20% de la data entrenamiento y prueba\n",
    "x_train, x_test, y_train, y_test = train_test_split(X, y, test_size=0.2)"
   ]
  },
  {
   "cell_type": "markdown",
   "metadata": {},
   "source": [
    "<h1><center><font color='red'>Modelo de regresion con K vecinos (KNN-Regresion)</font></center></h1>"
   ]
  },
  {
   "cell_type": "code",
   "execution_count": 9,
   "metadata": {},
   "outputs": [
    {
     "name": "stdout",
     "output_type": "stream",
     "text": [
      "Confianza del modelo:  98.10441943509655\n"
     ]
    }
   ],
   "source": [
    "knn = KNeighborsRegressor(n_neighbors=5) #Declaramos al método\n",
    "modelKnn = knn.fit(x_train, y_train) #Ajustamos a al método\n",
    "confianzaKnn = modelKnn.score(x_test, y_test) # El porcentaje de acertamiento del método\n",
    "print(\"Confianza del modelo: \",confianzaKnn*100 )"
   ]
  },
  {
   "cell_type": "code",
   "execution_count": 10,
   "metadata": {},
   "outputs": [
    {
     "name": "stdout",
     "output_type": "stream",
     "text": [
      "Valor Predicho para hoy: [310.65]\n",
      "Valor Real para hoy: \n"
     ]
    }
   ],
   "source": [
    "print(\"Valor Predicho para hoy:\",modelKnn.predict(X_prediccion))\n",
    "print(\"Valor Real para hoy: \")"
   ]
  },
  {
   "cell_type": "markdown",
   "metadata": {},
   "source": [
    "##### El valor real del dia 10 de enero del 2019 es de 319.96 $. [Click para ver el Precio real](https://www.google.es/search?rlz=1C1JZAP_esHN814HN814&ei=-V0KXMukLcyS1fAP-JGXkA8&q=netflix+precio+acciones&oq=netflix+precio+acciones&gs_l=psy-ab.3..0.1343.2361..2419...0.0..0.87.653.8......0....1..gws-wiz.......0i71j0i131j0i67j0i22i30.fzb9bUZVgIY)"
   ]
  },
  {
   "cell_type": "markdown",
   "metadata": {},
   "source": [
    "<h1><center><font color='red'>Modelo de regresion con SVR</font></center></h1>"
   ]
  },
  {
   "cell_type": "code",
   "execution_count": 11,
   "metadata": {},
   "outputs": [
    {
     "name": "stdout",
     "output_type": "stream",
     "text": [
      "Confianza del modelo:  99.10953503203766\n"
     ]
    }
   ],
   "source": [
    "clf = SVR(kernel='rbf', C=1e3, gamma=0.1)\n",
    "modelSVR = clf.fit(x_train, y_train)\n",
    "confianzaSVR=modelSVR.score(x_test, y_test)\n",
    "print(\"Confianza del modelo: \",confianzaSVR*100 )"
   ]
  },
  {
   "cell_type": "code",
   "execution_count": 12,
   "metadata": {},
   "outputs": [
    {
     "name": "stdout",
     "output_type": "stream",
     "text": [
      "Valor Predicho para hoy: [320.17016953]\n",
      "Valor Real para hoy: \n"
     ]
    }
   ],
   "source": [
    "print(\"Valor Predicho para hoy:\",modelSVR.predict(X_prediccion))\n",
    "print(\"Valor Real para hoy: \")"
   ]
  },
  {
   "cell_type": "markdown",
   "metadata": {},
   "source": [
    "##### El valor real del dia 10 de enero del 2019 es de 319.96 $. [Click para ver el Precio real](https://www.google.es/search?rlz=1C1JZAP_esHN814HN814&ei=-V0KXMukLcyS1fAP-JGXkA8&q=netflix+precio+acciones&oq=netflix+precio+acciones&gs_l=psy-ab.3..0.1343.2361..2419...0.0..0.87.653.8......0....1..gws-wiz.......0i71j0i131j0i67j0i22i30.fzb9bUZVgIY)"
   ]
  },
  {
   "cell_type": "markdown",
   "metadata": {},
   "source": [
    "<h1><center><font color='red'>Concluciones</font></center></h1>"
   ]
  },
  {
   "cell_type": "markdown",
   "metadata": {},
   "source": [
    "* De los resultados anteriores vemos que el modelo SVR da una mejor confianza aproximada de 99.73% frente a 99.09% del knn-Regresión al momento de predecir el precio de las acciones.\n",
    "* Al intentar mejorar la predicion hecha por el modelo Knn-Regresión considerando dos días anteriores para predecir el preio de la acción actual, da como resultado que el modelo se entrena peor. De manera, que este enfoque no funciono.\n",
    "* Por último, se recomienda usar SVR por el nivel de confianza que este presenta para realizar predicciones acerca de valores en la bolsa."
   ]
  },
  {
   "cell_type": "code",
   "execution_count": null,
   "metadata": {},
   "outputs": [],
   "source": []
  }
 ],
 "metadata": {
  "kernelspec": {
   "display_name": "Python 3",
   "language": "python",
   "name": "python3"
  },
  "language_info": {
   "codemirror_mode": {
    "name": "ipython",
    "version": 3
   },
   "file_extension": ".py",
   "mimetype": "text/x-python",
   "name": "python",
   "nbconvert_exporter": "python",
   "pygments_lexer": "ipython3",
   "version": "3.7.0"
  }
 },
 "nbformat": 4,
 "nbformat_minor": 2
}
